{
 "cells": [
  {
   "cell_type": "code",
   "execution_count": null,
   "metadata": {},
   "outputs": [],
   "source": [
    "# !pip install thefuzz"
   ]
  },
  {
   "cell_type": "code",
   "execution_count": null,
   "metadata": {},
   "outputs": [],
   "source": [
    "import pandas as pd\n",
    "import sys\n",
    "import numpy as np\n",
    "import re\n",
    "from thefuzz import process"
   ]
  },
  {
   "cell_type": "code",
   "execution_count": null,
   "metadata": {},
   "outputs": [],
   "source": [
    "bundesliga = pd.read_csv('1-bundesliga.csv')\n",
    "eredivisie = pd.read_csv('eredivisie.csv')\n",
    "liganos = pd.read_csv('liga-nos.csv')\n",
    "ligue1 = pd.read_csv('ligue-1.csv')\n",
    "premier = pd.read_csv('premier-league.csv')\n",
    "premierliga = pd.read_csv('premier-liga.csv')\n",
    "liga = pd.read_csv('primera-division.csv')\n",
    "seriea = pd.read_csv('serie-a.csv')"
   ]
  },
  {
   "cell_type": "code",
   "execution_count": null,
   "metadata": {},
   "outputs": [],
   "source": [
    "df = pd.concat([bundesliga, eredivisie, liganos, ligue1, premier, premierliga, liga, seriea], ignore_index = True)\n",
    "df.head()"
   ]
  },
  {
   "cell_type": "code",
   "execution_count": null,
   "metadata": {},
   "outputs": [],
   "source": [
    "len(df)"
   ]
  },
  {
   "cell_type": "code",
   "execution_count": null,
   "metadata": {},
   "outputs": [],
   "source": [
    "# Remove duplicated rows\n",
    "df = df.drop_duplicates()\n",
    "len(df)"
   ]
  },
  {
   "cell_type": "code",
   "execution_count": null,
   "metadata": {},
   "outputs": [],
   "source": [
    "# CLEANING\n",
    "\n",
    "# Avoid deleting transfers involving team 'Willem II'\n",
    "willem = df[df['club_involved_name'] == 'Willem II']\n",
    "\n",
    "# Remove 'Career break', 'Unknown', 'Ban', 'Retired' and 'Without Club'\n",
    "df = df[df['club_involved_name'] != 'Career break']\n",
    "df = df[df['club_involved_name'] != 'Unknown']\n",
    "df = df[df['club_involved_name'] != 'Ban']\n",
    "df = df[df['club_involved_name'] != 'Retired']\n",
    "df = df[df['club_involved_name'] != 'Without Club']\n",
    "\n",
    "# Remove df[df['fee'] == '0'] - Only one observation\n",
    "df = df[df['fee'] != '0']\n",
    "\n",
    "# Remove transfers involving seocond teams/youth sectors\n",
    "remove = ['II', 'U19', 'U20', ' B', ' C', '-D', 'Youth', 'U21', 'U17', 'U23', 'U18', \n",
    "          'Sub-23', ' 2', 'Res.', 'Juve Next Gen', 'Arsenal-2 Tula', 'FShM Torpedo 19', \n",
    "          'US Palermo Yout', 'Cremonese Giov.', 'Amkar-Junior', 'Blackburn Acad.', 'Reggina Primaver', \n",
    "          'Real Oviedo You', 'Tom-2 Tomsk', 'DYuSSh Spartak', 'CA Osasuna Prom', 'Y19', \n",
    "          'Yth.', 'ACR Messina You', 'Akademia KSS', 'Valladolid Prom', 'Southampton Aca', \n",
    "          'Siena Junior', 'Leeds Reserves', 'Anzhi-Yunior', 'Barça Atlètic', 'Akademia Ufa']\n",
    "remove_escaped = [re.escape(x) for x in remove]\n",
    "pattern = r'\\b(?:' + '|'.join(remove_escaped) + r')(?!\\w)'\n",
    "df = df[~df['club_involved_name'].str.contains(pattern, regex = True)]\n",
    "\n",
    "df = pd.concat([df, willem], ignore_index = True)\n",
    "        \n",
    "len(df)"
   ]
  },
  {
   "cell_type": "code",
   "execution_count": null,
   "metadata": {},
   "outputs": [],
   "source": [
    "# Add 'id' column\n",
    "df['id'] = range(0, len(df))"
   ]
  },
  {
   "cell_type": "code",
   "execution_count": null,
   "metadata": {},
   "outputs": [],
   "source": [
    "#Reorder columns\n",
    "new_order = ['id', 'club_name', 'player_name', 'age', 'position', \n",
    "             'club_involved_name', 'fee', 'transfer_movement', \n",
    "             'transfer_period', 'fee_cleaned', 'league_name', \n",
    "             'year', 'season', 'country']\n",
    "\n",
    "df = df[new_order]"
   ]
  },
  {
   "cell_type": "code",
   "execution_count": null,
   "metadata": {},
   "outputs": [],
   "source": [
    "df.reset_index(drop = True, inplace = True)\n",
    "df.head()"
   ]
  },
  {
   "cell_type": "code",
   "execution_count": null,
   "metadata": {},
   "outputs": [],
   "source": [
    "df.info()"
   ]
  },
  {
   "cell_type": "code",
   "execution_count": null,
   "metadata": {},
   "outputs": [],
   "source": [
    "def match_name(name, standard_names):\n",
    "    return process.extractOne(name, standard_names)\n",
    "\n",
    "df['transfer_id'] = None\n",
    "\n",
    "datain = df[df['transfer_movement'] == 'in']\n",
    "dataout = df[df['transfer_movement'] == 'out']\n",
    "\n",
    "k = 0\n",
    "\n",
    "CLEAR_LINE = '\\033[K'\n",
    "\n",
    "for i, transfer_in in datain.iterrows():\n",
    "    index_in = transfer_in['id']\n",
    "    if transfer_in['transfer_id'] is not None:\n",
    "        continue\n",
    "    search = dataout[dataout['season'] == transfer_in['season']]\n",
    "    search = search[search['transfer_period'] == transfer_in['transfer_period']]\n",
    "    search = search[search['player_name'] == transfer_in['player_name']]\n",
    "    search = search[search['age'] == transfer_in['age']]\n",
    "    search = search[search['position'] == transfer_in['position']]\n",
    "    search = search[search['fee'] == transfer_in['fee']]\n",
    "    search = search[search['transfer_id'].isnull()]\n",
    "    if len(search) > 1:\n",
    "        teams = list(search['club_involved_name'])\n",
    "        target = match_name(transfer_in['club_name'], teams)[0]\n",
    "        search = search[search['club_involved_name'] == target]\n",
    "    for j, transfer_out in search.iterrows():\n",
    "        index_out = transfer_out['id']\n",
    "        datain.loc[datain['id'] == index_in, 'transfer_id'] = k\n",
    "        dataout.loc[dataout['id'] == index_out, 'transfer_id'] = k\n",
    "        k += 1\n",
    "\n",
    "    message = f\"Iteration {i}, {np.round(i*100/len(df), 2)}%\"\n",
    "    sys.stdout.write('\\r' + CLEAR_LINE + message)\n",
    "    sys.stdout.flush()"
   ]
  },
  {
   "cell_type": "code",
   "execution_count": null,
   "metadata": {},
   "outputs": [],
   "source": [
    "in_notnull = datain[datain['transfer_id'].notnull()].copy()\n",
    "in_notnull['country2'] = None\n",
    "out_notnull = dataout[dataout['transfer_id'].notnull()].copy()\n",
    "\n",
    "for index, row_in in in_notnull.iterrows():\n",
    "    id = row_in['transfer_id']\n",
    "    row_out = out_notnull[out_notnull['transfer_id'] == id]\n",
    "    team_out = row_out['club_name'].values[0]\n",
    "    contryout = row_out['country'].values[0]\n",
    "    in_notnull.loc[index, 'club_involved_name'] = team_out\n",
    "    in_notnull.loc[index, 'country2'] = contryout\n",
    "    \n",
    "in_notnull.head() "
   ]
  },
  {
   "cell_type": "code",
   "execution_count": null,
   "metadata": {},
   "outputs": [],
   "source": [
    "network_data = in_notnull[['club_name', 'country', 'club_involved_name', 'country2', 'fee', 'fee_cleaned', 'season', 'transfer_period']].copy()\n",
    "network_data.rename(columns = {'club_name': 'target', 'country': 'target_country', 'club_involved_name': 'source', 'country2': 'source_country'}, inplace = True)\n",
    "network_data.reset_index(drop = True, inplace = True)\n",
    "network_data.head()"
   ]
  },
  {
   "cell_type": "code",
   "execution_count": null,
   "metadata": {},
   "outputs": [],
   "source": [
    "len(network_data)"
   ]
  },
  {
   "cell_type": "code",
   "execution_count": null,
   "metadata": {},
   "outputs": [],
   "source": [
    "network_data.info()"
   ]
  },
  {
   "cell_type": "markdown",
   "metadata": {},
   "source": [
    "# Team name cleaning\n"
   ]
  },
  {
   "cell_type": "code",
   "execution_count": null,
   "metadata": {},
   "outputs": [],
   "source": [
    "len(network_data['source'].unique()), len(network_data['target'].unique())"
   ]
  },
  {
   "cell_type": "markdown",
   "metadata": {},
   "source": [
    "## Serie A"
   ]
  },
  {
   "cell_type": "code",
   "execution_count": null,
   "metadata": {},
   "outputs": [],
   "source": [
    "italian_source_teams = network_data[network_data['source_country'] == 'Italy']['source'].unique()\n",
    "italian_target_teams = network_data[network_data['target_country'] == 'Italy']['target'].unique()"
   ]
  },
  {
   "cell_type": "code",
   "execution_count": null,
   "metadata": {
    "scrolled": true
   },
   "outputs": [],
   "source": [
    "sorted_italian_source_teams = sorted(italian_source_teams)\n",
    "print(\"Italian Source Teams in Alphabetical Order:\")\n",
    "for team in sorted_italian_source_teams:\n",
    "    print(team)\n",
    "\n",
    "sorted_italian_target_teams = sorted(italian_target_teams)\n",
    "print(\"\\nItalian Target Teams in Alphabetical Order:\")\n",
    "for team in sorted_italian_target_teams:\n",
    "    print(team)"
   ]
  },
  {
   "cell_type": "code",
   "execution_count": null,
   "metadata": {},
   "outputs": [],
   "source": [
    "#source teams\n",
    "network_data['source'] = network_data['source'].replace('Empoli FC', 'FC Empoli')\n",
    "network_data['source'] = network_data['source'].replace('FC Internazionale', 'Inter Milan')\n",
    "network_data['source'] = network_data['source'].replace('ACF Fiorentina', 'AC Fiorentina')\n",
    "network_data['source'] = network_data['source'].replace('Milan AC', 'AC Milan')\n",
    "network_data['source'] = network_data['source'].replace('Parma Calcio 1913', 'Parma FC')\n",
    "network_data['source'] = network_data['source'].replace('AC Parma', 'Parma FC')\n",
    "network_data['source'] = network_data['source'].replace('AC Venezia 1907', 'Venezia FC')\n",
    "network_data['source'] = network_data['source'].replace('Torino Calcio', 'Torino FC')\n",
    "network_data['source'] = network_data['source'].replace('US Salernitana', 'US Salernitana 1919')\n",
    "network_data['source'] = network_data['source'].replace('Genoa CFC', 'Genoa 1893')\n",
    "\n",
    "\n",
    "#target team\n",
    "network_data['target'] = network_data['target'].replace('Empoli FC', 'FC Empoli')\n",
    "network_data['target'] = network_data['target'].replace('FC Internazionale', 'Inter Milan')\n",
    "network_data['target'] = network_data['target'].replace('ACF Fiorentina', 'AC Fiorentina')\n",
    "network_data['target'] = network_data['target'].replace('Milan AC', 'AC Milan')\n",
    "network_data['target'] = network_data['target'].replace('Parma Calcio 1913', 'Parma FC')\n",
    "network_data['target'] = network_data['target'].replace('AC Parma', 'Parma FC')\n",
    "network_data['target'] = network_data['target'].replace('AC Venezia 1907', 'Venezia FC')\n",
    "network_data['target'] = network_data['target'].replace('Torino Calcio', 'Torino FC')\n",
    "network_data['target'] = network_data['target'].replace('US Salernitana', 'US Salernitana 1919')\n",
    "network_data['target'] = network_data['target'].replace('Genoa CFC', 'Genoa 1893')\n",
    "network_data['target'] = network_data['target'].replace('SPAL 2013', 'SPAL')"
   ]
  },
  {
   "cell_type": "markdown",
   "metadata": {},
   "source": [
    "## Premier League"
   ]
  },
  {
   "cell_type": "code",
   "execution_count": null,
   "metadata": {},
   "outputs": [],
   "source": [
    "english_source_teams = network_data[network_data['source_country'] == 'England']['source'].unique()\n",
    "english_target_teams = network_data[network_data['target_country'] == 'England']['target'].unique()"
   ]
  },
  {
   "cell_type": "code",
   "execution_count": null,
   "metadata": {},
   "outputs": [],
   "source": [
    "sorted_english_source_teams = sorted(english_source_teams)\n",
    "print(\"English Source Teams in Alphabetical Order:\")\n",
    "for team in sorted_english_source_teams:\n",
    "    print(team)\n",
    "\n",
    "sorted_english_target_teams = sorted(english_target_teams)\n",
    "print(\"\\nEnglish Target Teams in Alphabetical Order:\")\n",
    "for team in sorted_english_target_teams:\n",
    "    print(team)"
   ]
  },
  {
   "cell_type": "markdown",
   "metadata": {},
   "source": [
    "## Ligue 1"
   ]
  },
  {
   "cell_type": "code",
   "execution_count": null,
   "metadata": {},
   "outputs": [],
   "source": [
    "french_source_teams = network_data[network_data['source_country'] == 'France']['source'].unique()\n",
    "french_target_teams = network_data[network_data['target_country'] == 'France']['target'].unique()"
   ]
  },
  {
   "cell_type": "code",
   "execution_count": null,
   "metadata": {},
   "outputs": [],
   "source": [
    "sorted_french_source_teams = sorted(french_source_teams)\n",
    "print(\"French Source Teams in Alphabetical Order:\")\n",
    "for team in sorted_french_source_teams:\n",
    "    print(team)\n",
    "\n",
    "sorted_french_target_teams = sorted(french_target_teams)\n",
    "print(\"\\nFrench Target Teams in Alphabetical Order:\")\n",
    "for team in sorted_french_target_teams:\n",
    "    print(team)"
   ]
  },
  {
   "cell_type": "code",
   "execution_count": null,
   "metadata": {},
   "outputs": [],
   "source": [
    "#source teams\n",
    "network_data['source'] = network_data['source'].replace('Association Troyes Aube Champagne', 'ESTAC Troyes')\n",
    "network_data['source'] = network_data['source'].replace('Union Sportive Valenciennes-Anzin Arrondissement', 'Valenciennes FC')\n",
    "\n",
    "#target teams\n",
    "network_data['target'] = network_data['target'].replace('Association Troyes Aube Champagne', 'ESTAC Troyes')\n",
    "network_data['target'] = network_data['target'].replace('Union Sportive Valenciennes-Anzin Arrondissement', 'Valenciennes FC')"
   ]
  },
  {
   "cell_type": "markdown",
   "metadata": {},
   "source": [
    "## LaLiga"
   ]
  },
  {
   "cell_type": "code",
   "execution_count": null,
   "metadata": {},
   "outputs": [],
   "source": [
    "spanish_source_teams = network_data[network_data['source_country'] == 'Spain']['source'].unique()\n",
    "spanish_target_teams = network_data[network_data['target_country'] == 'Spain']['target'].unique()"
   ]
  },
  {
   "cell_type": "code",
   "execution_count": null,
   "metadata": {},
   "outputs": [],
   "source": [
    "sorted_spanish_source_teams = sorted(spanish_source_teams)\n",
    "print(\"Spanish Source Teams in Alphabetical Order:\")\n",
    "for team in sorted_spanish_source_teams:\n",
    "    print(team)\n",
    "\n",
    "sorted_spanish_target_teams = sorted(spanish_target_teams)\n",
    "print(\"\\nSpanish Target Teams in Alphabetical Order:\")\n",
    "for team in sorted_spanish_target_teams:\n",
    "    print(team)"
   ]
  },
  {
   "cell_type": "code",
   "execution_count": null,
   "metadata": {},
   "outputs": [],
   "source": [
    "#source teams\n",
    "network_data['source'] = network_data['source'].replace('CF Extremadura (- 2010)', 'CF Extremadura')\n",
    "\n",
    "#target teams\n",
    "network_data['target'] = network_data['target'].replace('CF Extremadura (- 2010)', 'CF Extremadura')"
   ]
  },
  {
   "cell_type": "markdown",
   "metadata": {},
   "source": [
    "## Bundesliga"
   ]
  },
  {
   "cell_type": "code",
   "execution_count": null,
   "metadata": {},
   "outputs": [],
   "source": [
    "german_source_teams = network_data[network_data['source_country'] == 'Germany']['source'].unique()\n",
    "german_target_teams = network_data[network_data['target_country'] == 'Germany']['target'].unique()"
   ]
  },
  {
   "cell_type": "code",
   "execution_count": null,
   "metadata": {},
   "outputs": [],
   "source": [
    "sorted_german_source_teams = sorted(german_source_teams)\n",
    "print(\"German Source Teams in Alphabetical Order:\")\n",
    "for team in sorted_german_source_teams:\n",
    "    print(team)\n",
    "\n",
    "sorted_german_target_teams = sorted(german_target_teams)\n",
    "print(\"\\nGerman Target Teams in Alphabetical Order:\")\n",
    "for team in sorted_german_target_teams:\n",
    "    print(team)"
   ]
  },
  {
   "cell_type": "code",
   "execution_count": null,
   "metadata": {},
   "outputs": [],
   "source": [
    "#source teams\n",
    "network_data['source'] = network_data['source'].replace('VfB Leipzig (- 2004)', 'VfB Leipzig')\n",
    "network_data['source'] = network_data['source'].replace('Bayer 05 Uerdingen', 'KFC Uerdingen 05')\n",
    "\n",
    "#target teams\n",
    "network_data['target'] = network_data['target'].replace('VfB Leipzig (- 2004)', 'VfB Leipzig')\n",
    "network_data['target'] = network_data['target'].replace('Bayer 05 Uerdingen', 'KFC Uerdingen 05')"
   ]
  },
  {
   "cell_type": "markdown",
   "metadata": {},
   "source": [
    "## Liga Portugal 1"
   ]
  },
  {
   "cell_type": "code",
   "execution_count": null,
   "metadata": {},
   "outputs": [],
   "source": [
    "protuguese_source_teams = network_data[network_data['source_country'] == 'Portugal']['source'].unique()\n",
    "protuguese_target_teams = network_data[network_data['target_country'] == 'Portugal']['target'].unique()"
   ]
  },
  {
   "cell_type": "code",
   "execution_count": null,
   "metadata": {},
   "outputs": [],
   "source": [
    "sorted_protuguese_source_teams = sorted(protuguese_source_teams)\n",
    "print(\"Portuguese Source Teams in Alphabetical Order:\")\n",
    "for team in sorted_protuguese_source_teams:\n",
    "    print(team)\n",
    "\n",
    "sorted_protuguese_target_teams = sorted(protuguese_target_teams)\n",
    "print(\"\\nPortuguese Target Teams in Alphabetical Order:\")\n",
    "for team in sorted_protuguese_target_teams:\n",
    "    print(team)"
   ]
  },
  {
   "cell_type": "code",
   "execution_count": null,
   "metadata": {},
   "outputs": [],
   "source": [
    "#source teams\n",
    "network_data['source'] = network_data['source'].replace('Desportivo Aves (- 2020)', 'Desportivo Aves')\n",
    "network_data['source'] = network_data['source'].replace('SC Campomaiorense (- 2001)', 'SC Campomaiorense')\n",
    "\n",
    "#target teams\n",
    "network_data['target'] = network_data['target'].replace('Desportivo Aves (- 2020)', 'Desportivo Aves')\n",
    "network_data['target'] = network_data['target'].replace('SC Campomaiorense (- 2001)', 'SC Campomaiorense')"
   ]
  },
  {
   "cell_type": "markdown",
   "metadata": {},
   "source": [
    "## Prem'er-Liga"
   ]
  },
  {
   "cell_type": "code",
   "execution_count": null,
   "metadata": {},
   "outputs": [],
   "source": [
    "russian_source_teams = network_data[network_data['source_country'] == 'Russia']['source'].unique()\n",
    "russian_target_teams = network_data[network_data['target_country'] == 'Russia']['target'].unique()"
   ]
  },
  {
   "cell_type": "code",
   "execution_count": null,
   "metadata": {},
   "outputs": [],
   "source": [
    "sorted_russian_source_teams = sorted(russian_source_teams)\n",
    "print(\"Russian Source Teams in Alphabetical Order:\")\n",
    "for team in sorted_russian_source_teams:\n",
    "    print(team)\n",
    "\n",
    "sorted_russian_target_teams = sorted(russian_target_teams)\n",
    "print(\"\\nRussian Target Teams in Alphabetical Order:\")\n",
    "for team in sorted_russian_target_teams:\n",
    "    print(team)"
   ]
  },
  {
   "cell_type": "code",
   "execution_count": null,
   "metadata": {},
   "outputs": [],
   "source": [
    "#source teams\n",
    "network_data['source'] = network_data['source'].replace('Dynamo Moscow', 'Dinamo Moscow')\n",
    "network_data['source'] = network_data['source'].replace('Anzhi Makhachkala ( -2022)', 'Anzhi Makhachkala')\n",
    "network_data['source'] = network_data['source'].replace('FC Nizhniy Novgorod', 'FC Pari Nizhniy Novgorod')\n",
    "network_data['source'] = network_data['source'].replace('FC Tosno (-2018)', 'FC Tosno')\n",
    "network_data['source'] = network_data['source'].replace('Kuban Krasnodar (-2018)', 'Kuban Krasnodar')\n",
    "network_data['source'] = network_data['source'].replace('Mordovia Saransk (-2020)', 'Mordovia Saransk')\n",
    "network_data['source'] = network_data['source'].replace('Saturn REN-TV Ramenskoe', 'Saturn Ramenskoe')\n",
    "network_data['source'] = network_data['source'].replace('Sibir Novosibirsk (- 2019)', 'Sibir Novosibirsk')\n",
    "network_data['source'] = network_data['source'].replace('Volga Nizhniy Novgorod (- 2016)', 'Volga Nizhniy Novgorod')\n",
    "network_data['source'] = network_data['source'].replace('Spartak Vladikavkaz', 'Alania Vladikavkaz')\n",
    "network_data['source'] = network_data['source'].replace('Spartak-Alania Vladikavkaz', 'Alania Vladikavkaz')\n",
    "network_data['source'] = network_data['source'].replace('Torpedo-Metallurg Moscow', 'FC Moscow')\n",
    "network_data['source'] = network_data['source'].replace('Torpedo-ZiL Moscow', 'FC Moscow')\n",
    "network_data['source'] = network_data['source'].replace('Факел-Воронеж Воронеж', 'Fakel Voronezh')\n",
    "network_data['source'] = network_data['source'].replace('PFK Tambov', 'FK Tambov')\n",
    "network_data['source'] = network_data['source'].replace('Dinamo-Gazovik Tyumen', 'FK Tyumen')\n",
    "network_data['source'] = network_data['source'].replace('Торпедо-Лужники Москва', 'Torpedo Moscow')\n",
    "\n",
    "#target teams\n",
    "network_data['target'] = network_data['target'].replace('Dynamo Moscow', 'Dinamo Moscow')\n",
    "network_data['target'] = network_data['target'].replace('Anzhi Makhachkala ( -2022)', 'Anzhi Makhachkala')\n",
    "network_data['target'] = network_data['target'].replace('FC Nizhniy Novgorod', 'FC Pari Nizhniy Novgorod')\n",
    "network_data['target'] = network_data['target'].replace('FC Tosno (-2018)', 'FC Tosno')\n",
    "network_data['target'] = network_data['target'].replace('Kuban Krasnodar (-2018)', 'Kuban Krasnodar')\n",
    "network_data['target'] = network_data['target'].replace('Mordovia Saransk (-2020)', 'Mordovia Saransk')\n",
    "network_data['target'] = network_data['target'].replace('Saturn REN-TV Ramenskoe', 'Saturn Ramenskoe')\n",
    "network_data['target'] = network_data['target'].replace('Sibir Novosibirsk (- 2019)', 'Sibir Novosibirsk')\n",
    "network_data['target'] = network_data['target'].replace('Volga Nizhniy Novgorod (- 2016)', 'Volga Nizhniy Novgorod')\n",
    "network_data['target'] = network_data['target'].replace('Spartak Vladikavkaz', 'Alania Vladikavkaz')\n",
    "network_data['target'] = network_data['target'].replace('Spartak-Alania Vladikavkaz', 'Alania Vladikavkaz')\n",
    "network_data['target'] = network_data['target'].replace('Torpedo-Metallurg Moscow', 'FC Moscow')\n",
    "network_data['target'] = network_data['target'].replace('Torpedo-ZiL Moscow', 'FC Moscow')\n",
    "network_data['target'] = network_data['target'].replace('Факел-Воронеж Воронеж', 'Fakel Voronezh')\n",
    "network_data['target'] = network_data['target'].replace('PFK Tambov', 'FK Tambov')\n",
    "network_data['target'] = network_data['target'].replace('Dinamo-Gazovik Tyumen', 'FK Tyumen')\n",
    "network_data['target'] = network_data['target'].replace('Торпедо-Лужники Москва', 'Torpedo Moscow')"
   ]
  },
  {
   "cell_type": "markdown",
   "metadata": {},
   "source": [
    "## Eredivisie"
   ]
  },
  {
   "cell_type": "code",
   "execution_count": null,
   "metadata": {},
   "outputs": [],
   "source": [
    "dutch_source_teams = network_data[network_data['source_country'] == 'Netherlands']['source'].unique()\n",
    "dutch_target_teams = network_data[network_data['target_country'] == 'Netherlands']['target'].unique()"
   ]
  },
  {
   "cell_type": "code",
   "execution_count": null,
   "metadata": {},
   "outputs": [],
   "source": [
    "sorted_dutch_source_teams = sorted(dutch_source_teams)\n",
    "print(\"Dutch Source Teams in Alphabetical Order:\")\n",
    "for team in sorted_dutch_source_teams:\n",
    "    print(team)\n",
    "\n",
    "sorted_dutch_source_teams = sorted(dutch_source_teams)\n",
    "print(\"\\nDutch Target Teams in Alphabetical Order:\")\n",
    "for team in sorted_dutch_source_teams:\n",
    "    print(team)"
   ]
  },
  {
   "cell_type": "code",
   "execution_count": null,
   "metadata": {},
   "outputs": [],
   "source": [
    "#source teams\n",
    "network_data['source'] = network_data['source'].replace(\"Dordrecht'90\", 'FC Dordrecht')\n",
    "network_data['source'] = network_data['source'].replace('FC Zwolle', 'PEC Zwolle')\n",
    "network_data['source'] = network_data['source'].replace('Cambuur-Leeuwarden bvo', 'SC Cambuur-Leeuwarden')\n",
    "network_data['source'] = network_data['source'].replace('SC Cambuur Leeuwarden', 'SC Cambuur-Leeuwarden')\n",
    "\n",
    "#target teams\n",
    "network_data['target'] = network_data['target'].replace(\"Dordrecht'90\", 'FC Dordrecht')\n",
    "network_data['target'] = network_data['target'].replace('FC Zwolle', 'PEC Zwolle')\n",
    "network_data['target'] = network_data['target'].replace('Cambuur-Leeuwarden bvo', 'SC Cambuur-Leeuwarden')\n",
    "network_data['target'] = network_data['target'].replace('SC Cambuur Leeuwarden', 'SC Cambuur-Leeuwarden')"
   ]
  },
  {
   "cell_type": "code",
   "execution_count": null,
   "metadata": {},
   "outputs": [],
   "source": [
    "len(network_data['source'].unique()), len(network_data['target'].unique())"
   ]
  },
  {
   "cell_type": "code",
   "execution_count": null,
   "metadata": {},
   "outputs": [],
   "source": [
    "network_data.to_csv('network_data.csv')"
   ]
  }
 ],
 "metadata": {
  "kernelspec": {
   "display_name": "Python 3 (ipykernel)",
   "language": "python",
   "name": "python3"
  },
  "language_info": {
   "codemirror_mode": {
    "name": "ipython",
    "version": 3
   },
   "file_extension": ".py",
   "mimetype": "text/x-python",
   "name": "python",
   "nbconvert_exporter": "python",
   "pygments_lexer": "ipython3",
   "version": "3.12.2"
  }
 },
 "nbformat": 4,
 "nbformat_minor": 4
}
